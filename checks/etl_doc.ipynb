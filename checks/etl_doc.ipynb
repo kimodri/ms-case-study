{
 "cells": [
  {
   "cell_type": "markdown",
   "id": "5c29b6f2-0c4e-4618-8dce-b7d525a3168b",
   "metadata": {},
   "source": [
    "- check for the column names\n",
    "- clean the column names\n",
    "- check for the nulls"
   ]
  },
  {
   "cell_type": "code",
   "execution_count": 1,
   "id": "493adff2-82e9-4a90-93c1-1168197e44a2",
   "metadata": {},
   "outputs": [],
   "source": [
    "import json, os\n",
    "import pandas as pd\n"
   ]
  },
  {
   "cell_type": "code",
   "execution_count": 2,
   "id": "252d8873-a144-43c5-a244-8014b7bb4a29",
   "metadata": {},
   "outputs": [],
   "source": [
    "files = os.listdir('./files')\n",
    "with open(f\"files/{files[-1]}\", 'r', encoding=\"utf-8\") as f:\n",
    "    data = json.load(f)\n",
    "    \n",
    "tables = list(data.keys())"
   ]
  },
  {
   "cell_type": "code",
   "execution_count": 7,
   "id": "8e147e18-2f0a-4183-bcf4-48444c42ad0c",
   "metadata": {},
   "outputs": [
    {
     "name": "stdout",
     "output_type": "stream",
     "text": [
      "148\n"
     ]
    }
   ],
   "source": [
    "print(len(data.get('certifications')))"
   ]
  },
  {
   "cell_type": "code",
   "execution_count": 3,
   "id": "5e3de2e6-7a5b-4c2c-8e48-9b784168cb7b",
   "metadata": {},
   "outputs": [],
   "source": [
    "import numpy as np\n",
    "\n",
    "def convert(x):\n",
    "    if isinstance(x, (list, dict)):\n",
    "        if len(x) == 0:  # empty list or dict\n",
    "            return None\n",
    "        return json.dumps(x)\n",
    "    if pd.isna(x):\n",
    "        return None\n",
    "    return x\n",
    "    \n",
    "def transform(df, *fields):\n",
    "    \"\"\"\n",
    "    Transform DataFrame:\n",
    "      - Converts lists/dicts to JSON strings\n",
    "      - Keeps empty or null ones as None\n",
    "    \"\"\"\n",
    "    # Get the wanted fields\n",
    "    fields = [field for field in fields]\n",
    "\n",
    "    # Transform objects to JSON, handle empty ones as null\n",
    "    for col in df.columns:\n",
    "        df[col] = df[col].apply(convert)\n",
    "    \n",
    "    # Add a source field from the most recent file\n",
    "    df[\"source_file\"] = files[-1]\n",
    "    \n",
    "    # Subset the dataframe\n",
    "    df = df[fields]\n",
    "\n",
    "    return df"
   ]
  },
  {
   "cell_type": "code",
   "execution_count": 4,
   "id": "f15b3404-95f1-4038-835d-de95ede2d509",
   "metadata": {},
   "outputs": [],
   "source": [
    "# module table\n",
    "df_modules = pd.DataFrame(data.get('modules'))\n",
    "df_modules = transform(\n",
    "    df_modules,\n",
    "    'title', 'summary', 'locale', 'levels', 'roles',\n",
    "    'products', 'subjects', 'url', 'last_modified', 'source_file', \n",
    ")\n",
    "\n",
    "# units table\n",
    "df_units = pd.DataFrame(data.get('units'))\n",
    "df_units = transform(\n",
    "    df_units,\n",
    "    'title', 'locale', 'duration_in_minutes',\n",
    "    'last_modified', 'source_file', \n",
    ")\n",
    "\n",
    "# learning paths\n",
    "df_learning_paths = pd.DataFrame(data.get('learningPaths'))\n",
    "df_learning_paths = transform(\n",
    "    df_learning_paths,\n",
    "    'title', 'summary', 'locale', 'levels',\n",
    "    'products', 'subjects', 'source_file', \n",
    ")\n",
    "\n",
    "# applied skills\n",
    "df_applied_skills = pd.DataFrame(data.get('appliedSkills'))\n",
    "df_applied_skills = transform(\n",
    "    df_applied_skills,\n",
    "    'title', 'summary', 'locale', 'levels', 'roles',\n",
    "    'products', 'subjects', 'url', 'last_modified', 'source_file', \n",
    ")\n",
    "\n",
    "# certifications\n",
    "df_certifications = pd.DataFrame(data.get('certifications'))\n",
    "df_certifications = transform(\n",
    "    df_certifications,\n",
    "    'title', 'subtitle', 'url', 'last_modified',\n",
    "    'certification_type', 'exams', 'levels', 'roles', 'source_file', \n",
    ")\n",
    "\n",
    "# mergedCertifications\n",
    "df_merged_certifications = pd.DataFrame(data.get('mergedCertifications'))\n",
    "df_merged_certifications = transform(\n",
    "    df_merged_certifications,\n",
    "    'title', 'summary', 'url', 'last_modified',\n",
    "    'certification_type', 'products', 'levels', 'roles', 'subjects',\n",
    "    'prerequisites', 'skills', 'providers', 'career_paths', 'source_file', \n",
    ")\n",
    "\n",
    "# exams\n",
    "df_exams = pd.DataFrame(data.get('exams'))\n",
    "df_exams = transform(\n",
    "    df_exams,\n",
    "    'title', 'subtitle', 'url',\n",
    "    'last_modified', 'levels', 'roles', 'products', 'providers', 'source_file', \n",
    ")\n",
    "\n",
    "# courses\n",
    "df_courses = pd.DataFrame(data.get('courses'))\n",
    "df_courses = transform(\n",
    "    df_courses,\n",
    "    'title', 'summary', 'duration_in_hours',\n",
    "    'url', 'last_modified', 'levels', 'roles', 'products', 'source_file', \n",
    ")\n",
    "\n",
    "# levels\n",
    "df_levels = pd.DataFrame(data.get('levels'))\n",
    "df_levels = transform(df_levels, 'name', 'source_file')\n",
    "\n",
    "# products\n",
    "df_products = pd.DataFrame(data.get('products'))\n",
    "df_products = transform(df_products, 'name', 'children', 'source_file')\n",
    "\n",
    "# roles\n",
    "df_roles = pd.DataFrame(data.get('roles'))\n",
    "df_roles = transform(df_roles, 'name', 'source_file')\n",
    "\n",
    "# subjects\n",
    "df_subjects = pd.DataFrame(data.get('subjects'))\n",
    "df_subjects = transform(df_subjects, 'name', 'children', 'source_file')"
   ]
  }
 ],
 "metadata": {
  "kernelspec": {
   "display_name": "Python 3 (ipykernel)",
   "language": "python",
   "name": "python3"
  },
  "language_info": {
   "codemirror_mode": {
    "name": "ipython",
    "version": 3
   },
   "file_extension": ".py",
   "mimetype": "text/x-python",
   "name": "python",
   "nbconvert_exporter": "python",
   "pygments_lexer": "ipython3",
   "version": "3.13.7"
  }
 },
 "nbformat": 4,
 "nbformat_minor": 5
}
