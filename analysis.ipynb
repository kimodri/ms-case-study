{
 "cells": [
  {
   "cell_type": "markdown",
   "id": "491a8179-2430-4958-9890-330715003907",
   "metadata": {},
   "source": [
    "# 📝 Microsoft Learn Catalog API\n",
    "- Kim Audrey Magan"
   ]
  },
  {
   "cell_type": "markdown",
   "id": "60f04b06-2117-446a-b843-f8370e6f20c0",
   "metadata": {},
   "source": [
    "This analysis will show the count of the loaded data from the MS Learn Catalog API. The API contains the tables:\n",
    "\n",
    "| Key                  | Description                                                                 |\n",
    "|----------------------|-----------------------------------------------------------------------------|\n",
    "| modules              | An array of published modules.                                              |\n",
    "| units                | An array of published units.                                                |\n",
    "| learningPaths        | An array of published learning paths.                                       |\n",
    "| appliedSkills        | An array of published applied skills.                                       |\n",
    "| mergedCertifications | An array of published certifications merged with exams.                     |\n",
    "| certifications       | An array of published certifications.                                       |\n",
    "| exams                | An array of published exams.                                                |\n",
    "| courses              | An array of published instructor-led training courses.                      |\n",
    "| levels               | An array of possible audience levels.                                       |\n",
    "| products             | An array of possible products and services covered in the catalog.          |\n",
    "| roles                | An array of possible job roles.                                             |\n",
    "| subjects             | An array of possible subject tags.                                          |"
   ]
  },
  {
   "cell_type": "code",
   "execution_count": 1,
   "id": "536e32c8-74a0-4cc2-aea6-98bc66b9e658",
   "metadata": {},
   "outputs": [],
   "source": [
    "from sqlalchemy import create_engine, text\n",
    "from dotenv import load_dotenv\n",
    "import os\n",
    "import pandas as pd\n",
    "import matplotlib.pyplot as plt\n",
    "\n",
    "# Get the environment variable\n",
    "load_dotenv()\n",
    "string_connection = os.getenv(\"DATABASE_URI\")"
   ]
  },
  {
   "cell_type": "code",
   "execution_count": 2,
   "id": "0a918fe4-e495-4cb2-bc95-3a5400f802d0",
   "metadata": {},
   "outputs": [
    {
     "name": "stdout",
     "output_type": "stream",
     "text": [
      "Connection to the database, established.\n"
     ]
    }
   ],
   "source": [
    "# Connect to the database\n",
    "try:\n",
    "    conn_engine = create_engine(string_connection)\n",
    "    print(\"Connection to the database, established.\")\n",
    "except Exception as e:\n",
    "    print(f\"Error: {e}\")\n"
   ]
  },
  {
   "cell_type": "code",
   "execution_count": 12,
   "id": "13f15cb4-8018-4064-9895-96e5ad656e99",
   "metadata": {},
   "outputs": [],
   "source": [
    "table_names = [\n",
    "    \"modules\",\n",
    "    \"units\",\n",
    "    \"learning_paths\",\n",
    "    \"applied_skills\",\n",
    "    \"certifications\",\n",
    "    \"merged_certifications\",\n",
    "    \"exams\",\n",
    "    \"courses\",\n",
    "    \"levels\",\n",
    "    \"products\",\n",
    "    \"roles\",\n",
    "    \"subjects\"\n",
    "]\n",
    "\n",
    "# Table-count relationship\n",
    "table_count = {}\n",
    "\n",
    "for table_name in table_names:\n",
    "    with conn_engine.connect() as con:\n",
    "        result = con.execute(\n",
    "            text(f\"SELECT COUNT(*) FROM {table_name}\")\n",
    "        )\n",
    "        count = result.scalar()\n",
    "        table_count[table_name] = count"
   ]
  },
  {
   "cell_type": "markdown",
   "id": "26fdb38e-ef2d-4e6a-b694-dc518e72c45a",
   "metadata": {},
   "source": [
    "## 📐Table Counts"
   ]
  },
  {
   "cell_type": "code",
   "execution_count": 22,
   "id": "44ab9421-1c81-4cfe-8c24-e3bf895ed5a2",
   "metadata": {},
   "outputs": [
    {
     "data": {
      "text/html": [
       "<div>\n",
       "<style scoped>\n",
       "    .dataframe tbody tr th:only-of-type {\n",
       "        vertical-align: middle;\n",
       "    }\n",
       "\n",
       "    .dataframe tbody tr th {\n",
       "        vertical-align: top;\n",
       "    }\n",
       "\n",
       "    .dataframe thead th {\n",
       "        text-align: right;\n",
       "    }\n",
       "</style>\n",
       "<table border=\"1\" class=\"dataframe\">\n",
       "  <thead>\n",
       "    <tr style=\"text-align: right;\">\n",
       "      <th></th>\n",
       "      <th>table_name</th>\n",
       "      <th>row_count</th>\n",
       "    </tr>\n",
       "  </thead>\n",
       "  <tbody>\n",
       "    <tr>\n",
       "      <th>0</th>\n",
       "      <td>modules</td>\n",
       "      <td>3372</td>\n",
       "    </tr>\n",
       "    <tr>\n",
       "      <th>1</th>\n",
       "      <td>units</td>\n",
       "      <td>27031</td>\n",
       "    </tr>\n",
       "    <tr>\n",
       "      <th>2</th>\n",
       "      <td>learning_paths</td>\n",
       "      <td>836</td>\n",
       "    </tr>\n",
       "    <tr>\n",
       "      <th>3</th>\n",
       "      <td>applied_skills</td>\n",
       "      <td>45</td>\n",
       "    </tr>\n",
       "    <tr>\n",
       "      <th>4</th>\n",
       "      <td>certifications</td>\n",
       "      <td>148</td>\n",
       "    </tr>\n",
       "    <tr>\n",
       "      <th>5</th>\n",
       "      <td>merged_certifications</td>\n",
       "      <td>148</td>\n",
       "    </tr>\n",
       "    <tr>\n",
       "      <th>6</th>\n",
       "      <td>exams</td>\n",
       "      <td>138</td>\n",
       "    </tr>\n",
       "    <tr>\n",
       "      <th>7</th>\n",
       "      <td>courses</td>\n",
       "      <td>156</td>\n",
       "    </tr>\n",
       "    <tr>\n",
       "      <th>8</th>\n",
       "      <td>levels</td>\n",
       "      <td>3</td>\n",
       "    </tr>\n",
       "    <tr>\n",
       "      <th>9</th>\n",
       "      <td>products</td>\n",
       "      <td>59</td>\n",
       "    </tr>\n",
       "    <tr>\n",
       "      <th>10</th>\n",
       "      <td>roles</td>\n",
       "      <td>35</td>\n",
       "    </tr>\n",
       "    <tr>\n",
       "      <th>11</th>\n",
       "      <td>subjects</td>\n",
       "      <td>6</td>\n",
       "    </tr>\n",
       "  </tbody>\n",
       "</table>\n",
       "</div>"
      ],
      "text/plain": [
       "               table_name  row_count\n",
       "0                 modules       3372\n",
       "1                   units      27031\n",
       "2          learning_paths        836\n",
       "3          applied_skills         45\n",
       "4          certifications        148\n",
       "5   merged_certifications        148\n",
       "6                   exams        138\n",
       "7                 courses        156\n",
       "8                  levels          3\n",
       "9                products         59\n",
       "10                  roles         35\n",
       "11               subjects          6"
      ]
     },
     "execution_count": 22,
     "metadata": {},
     "output_type": "execute_result"
    }
   ],
   "source": [
    "df = pd.DataFrame(list(table_count.items()), columns=['table_name', 'row_count'])\n",
    "df"
   ]
  },
  {
   "cell_type": "code",
   "execution_count": 18,
   "id": "2a92cf2a-d1b0-4e26-a262-baa4bbee7536",
   "metadata": {},
   "outputs": [
    {
     "data": {
      "image/png": "[encoded data removed]",
      "text/plain": [
       "<Figure size 640x480 with 1 Axes>"
      ]
     },
     "metadata": {},
     "output_type": "display_data"
    }
   ],
   "source": [
    "plt.bar(table_count.keys(), table_count.values(), color='skyblue')\n",
    "plt.xlabel('Tables')\n",
    "plt.xticks(rotation=45)\n",
    "plt.ylabel('Count')\n",
    "plt.title('Row Count for Each Table')\n",
    "plt.grid()\n",
    "plt.show()"
   ]
  },
  {
   "cell_type": "markdown",
   "id": "9343c732-fc89-4097-96c5-c5bd326a8d55",
   "metadata": {},
   "source": [
    "end"
   ]
  },
  {
   "cell_type": "code",
   "execution_count": null,
   "id": "ffcbc190-a118-4792-abcb-9e7de18d3fb8",
   "metadata": {},
   "outputs": [],
   "source": []
  }
 ],
 "metadata": {
  "kernelspec": {
   "display_name": "Python 3 (ipykernel)",
   "language": "python",
   "name": "python3"
  },
  "language_info": {
   "codemirror_mode": {
    "name": "ipython",
    "version": 3
   },
   "file_extension": ".py",
   "mimetype": "text/x-python",
   "name": "python",
   "nbconvert_exporter": "python",
   "pygments_lexer": "ipython3",
   "version": "3.13.7"
  }
 },
 "nbformat": 4,
 "nbformat_minor": 5
}
